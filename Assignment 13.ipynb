{
 "cells": [
  {
   "cell_type": "markdown",
   "id": "b20b2b80",
   "metadata": {},
   "source": [
    "1. What advantages do Excel spreadsheets have over CSV spreadsheets?\n",
    "\n",
    "2. What do you pass to csv.reader() and csv.writer() to create reader and writer objects?\n",
    "\n",
    "3. What modes do File objects for reader and writer objects need to be opened in?\n",
    "\n",
    "4. What method takes a list argument and writes it to a CSV file?\n",
    "\n",
    "5. What do the keyword arguments delimiter and line terminator do?\n",
    "\n",
    "6. What function takes a string of JSON data and returns a Python data structure?\n",
    "\n",
    "7. What function takes a Python data structure and returns a string of JSON data?"
   ]
  },
  {
   "cell_type": "markdown",
   "id": "df93bdac",
   "metadata": {},
   "source": [
    "1. What advantages do Excel spreadsheets have over CSV spreadsheets?\n",
    "\n",
    "- It is a binary file that holds information about all the worksheets in a workbook.\n",
    "- An Excel not only stores data but can also do operations on the data.\n",
    "- Files saved in excel cannot be opened or edited by text editors.\n",
    "- large files user is much easier in Excel for the end user. Also, you can have additional functions like selecting individual cells for import, convert dates and time automatically, reading formulas and their results, filters, sorting, etc\n",
    "- Apart from text, data can also be stored in form of charts and graphs\n",
    "- Excel can connect to external data sources to fetch data. You can use custom add-in in Excel to increase its functionality.\n",
    "- Excel allows for Review of Data with detailed tracking and commenting feature\n",
    "- In Excel, spreadsheets can have values of data types other than strings; cells can have different fonts, sizes, or color settings; cells can have varying widths and heights; adjacent cells can be merged"
   ]
  },
  {
   "cell_type": "markdown",
   "id": "6c84b249",
   "metadata": {},
   "source": [
    "2.  What do you pass to csv.reader() and csv.writer() to create reader and writer objects?\n",
    "-  First open the file using the open() function  then pass it to the csv.reader() function to create a Reader object and for the writer object call open() to open a file in write mode 'w', this will create the object you can then pass to csv.writer() to create a Writer object.\n"
   ]
  },
  {
   "cell_type": "markdown",
   "id": "5c28ea1c",
   "metadata": {},
   "source": [
    "3. What modes do File objects for reader and writer objects need to be opened in?\n",
    "\n",
    "r: Opens a file for reading only\n",
    "\n",
    "r+: Opens a file for both reading and writing\n",
    "\n",
    "w: Opens a file for writing only\n",
    "\n",
    "w+: Open a file for writing and reading.\n",
    "\n",
    "a: Opens a file for appending\n",
    "\n",
    "a+: Opens a file for both appending and reading"
   ]
  },
  {
   "cell_type": "markdown",
   "id": "98dd7ff2",
   "metadata": {},
   "source": [
    "4. What method takes a list argument and writes it to a CSV file?\n",
    "- The writerow() method\n"
   ]
  },
  {
   "cell_type": "markdown",
   "id": "90f4d07d",
   "metadata": {},
   "source": [
    "5. What do the keyword arguments delimiter and line terminator do?\n",
    "- The delimiter argument changes the string used to separate cells in a row.\n",
    "- The line terminator argument changes the string used to separate rows."
   ]
  },
  {
   "cell_type": "markdown",
   "id": "96f693e2",
   "metadata": {},
   "source": [
    "6. What function takes a string of JSON data and returns a Python data structure?\n",
    "- json.loads()"
   ]
  },
  {
   "cell_type": "markdown",
   "id": "328f04ee",
   "metadata": {},
   "source": [
    "7.  What function takes a Python data structure and returns a string of JSON data?\n",
    "-  json.dumps()"
   ]
  }
 ],
 "metadata": {
  "kernelspec": {
   "display_name": "Python 3 (ipykernel)",
   "language": "python",
   "name": "python3"
  },
  "language_info": {
   "codemirror_mode": {
    "name": "ipython",
    "version": 3
   },
   "file_extension": ".py",
   "mimetype": "text/x-python",
   "name": "python",
   "nbconvert_exporter": "python",
   "pygments_lexer": "ipython3",
   "version": "3.9.13"
  }
 },
 "nbformat": 4,
 "nbformat_minor": 5
}
