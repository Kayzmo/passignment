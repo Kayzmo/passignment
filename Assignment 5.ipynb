{
 "cells": [
  {
   "cell_type": "markdown",
   "id": "5c8ec9ae",
   "metadata": {},
   "source": [
    "1. What does an empty dictionary's code look like?\n",
    "\n",
    "2. What is the value of a dictionary value with the key 'foo' and the value 42?\n",
    "\n",
    "3. What is the most significant distinction between a dictionary and a list?\n",
    "\n",
    "4. What happens if you try to access spam['foo'] if spam is {'bar': 100}?\n",
    "\n",
    "5. If a dictionary is stored in spam, what is the difference between the expressions 'cat' in spam and 'cat' in spam.keys()?\n",
    "\n",
    "6. If a dictionary is stored in spam, what is the difference between the expressions 'cat' in spam and 'cat' in spam.values()?\n",
    "\n",
    "7. What is a shortcut for the following code?\n",
    "if 'color' not in spam:\n",
    "spam['color'] = 'black'\n",
    "\n",
    "8. How do you \"pretty print\" dictionary values using which module and function?\n"
   ]
  },
  {
   "cell_type": "markdown",
   "id": "75698a27",
   "metadata": {},
   "source": [
    "1. What does an empty dictionary's code look like?\n",
    "- x = { }"
   ]
  },
  {
   "cell_type": "markdown",
   "id": "709708ed",
   "metadata": {},
   "source": [
    "2. What is the value of a dictionary value with the key 'foo' and the value 42?\n",
    "- {foo : 42}"
   ]
  },
  {
   "cell_type": "markdown",
   "id": "fbf3dfa0",
   "metadata": {},
   "source": [
    "3. What is the most significant distinction between a dictionary and a list?\n",
    "- Items in dictionaries are accessed via keys and not via their position like in lists."
   ]
  },
  {
   "cell_type": "markdown",
   "id": "b10a0633",
   "metadata": {},
   "source": [
    "4. What happens if you try to access spam['foo'] if spam is {'bar': 100}?\n",
    "You will get a KeyError."
   ]
  },
  {
   "cell_type": "markdown",
   "id": "4fd85e40",
   "metadata": {},
   "source": [
    "5. If a dictionary is stored in spam, what is the difference between the expressions 'cat' in spam and 'cat' in spam.keys()?\n",
    "- There is no difference between the two expressions."
   ]
  },
  {
   "cell_type": "markdown",
   "id": "95cc52ac",
   "metadata": {},
   "source": [
    "6. If a dictionary is stored in spam, what is the difference between the expressions 'cat' in spam and 'cat' in spam.values()?\n",
    "- 'cat' in spam checks whether cat is a key element while 'cat' in spam.values() checks cat is a value element."
   ]
  },
  {
   "cell_type": "markdown",
   "id": "14fee907",
   "metadata": {},
   "source": [
    "7. What is a shortcut for the following code?\n",
    "    if 'color' not in spam:\n",
    "        spam['color'] = 'black'\n",
    "\n",
    "- spam.setdefault('color','black')\n",
    "\n"
   ]
  },
  {
   "cell_type": "markdown",
   "id": "c15c104b",
   "metadata": {},
   "source": [
    "8. How do you \"pretty print\" dictionary values using which module and function?\n",
    "- import pprint and pprint.pprint()"
   ]
  }
 ],
 "metadata": {
  "kernelspec": {
   "display_name": "Python 3 (ipykernel)",
   "language": "python",
   "name": "python3"
  },
  "language_info": {
   "codemirror_mode": {
    "name": "ipython",
    "version": 3
   },
   "file_extension": ".py",
   "mimetype": "text/x-python",
   "name": "python",
   "nbconvert_exporter": "python",
   "pygments_lexer": "ipython3",
   "version": "3.9.13"
  }
 },
 "nbformat": 4,
 "nbformat_minor": 5
}
