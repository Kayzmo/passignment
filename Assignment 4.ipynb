{
 "cells": [
  {
   "cell_type": "markdown",
   "id": "49fb13ba",
   "metadata": {},
   "source": [
    "1. What exactly is []?\n",
    "\n",
    "2. In a list of values stored in a variable called spam, how would you assign the value 'hello' as the third value? (Assume [2, 4, 6, 8, 10] are in spam.)\n",
    "\n",
    "    Let's pretend the spam includes the list ['a', 'b', 'c', 'd'] for the next three queries.\n",
    "\n",
    "3. What is the value of spam[int(int('3' * 2) / 11)]?\n",
    "\n",
    "4. What is the value of spam[-1]?\n",
    "\n",
    "5. What is the value of spam[:2]?\n",
    "\n",
    "    Let's pretend bacon has the list [3.14, 'cat,' 11, 'cat,' True] for the next three questions.\n",
    "\n",
    "6. What is the value of bacon.index('cat')?\n",
    "\n",
    "7. How does bacon.append(99) change the look of the list value in bacon?\n",
    "\n",
    "8. How does bacon.remove('cat') change the look of the list in bacon?\n",
    "\n",
    "9. What are the list concatenation and list replication operators?\n",
    "\n",
    "10. What is difference between the list methods append() and insert()?\n",
    "\n",
    "11. What are the two methods for removing items from a list?\n",
    "\n",
    "12. Describe how list values and string values are identical.\n",
    "\n",
    "13. What's the difference between tuples and lists?\n",
    "\n",
    "14. How do you type a tuple value that only contains the integer 42?\n",
    "\n",
    "15. How do you get a list value's tuple form? How do you get a tuple value's list form?\n",
    "\n",
    "16. Variables that \"contain\" list values are not necessarily lists themselves. Instead, what do they contain?\n",
    "\n",
    "17. How do you distinguish between copy.copy() and copy.deepcopy()?\n",
    "\n"
   ]
  },
  {
   "cell_type": "markdown",
   "id": "59334cb1",
   "metadata": {},
   "source": [
    "1. What exactly is []?\n",
    "- This is an empty list."
   ]
  },
  {
   "cell_type": "markdown",
   "id": "e51b6721",
   "metadata": {},
   "source": [
    "2.In a list of values stored in a variable called spam, how would you assign the value 'hello' as the third value? (Assume [2, 4, 6, 8, 10] are in spam.)\n",
    "\n",
    "- spam[2]\n"
   ]
  },
  {
   "cell_type": "markdown",
   "id": "14b838ae",
   "metadata": {},
   "source": [
    "Let's pretend the spam includes the list ['a', 'b', 'c', 'd'] for the next three queries.\n",
    "spam =['a', 'b', 'c', 'd']\n",
    "\n",
    "3. What is the value of spam[int(int('3' * 2) / 11)]?\n",
    "- d"
   ]
  },
  {
   "cell_type": "markdown",
   "id": "f0f530fd",
   "metadata": {},
   "source": [
    "4. What is the value of spam[-1]?\n",
    "- d"
   ]
  },
  {
   "cell_type": "markdown",
   "id": "d26ef564",
   "metadata": {},
   "source": [
    "5. What is the value of spam[:2]?\n",
    "- ['a','b']"
   ]
  },
  {
   "cell_type": "markdown",
   "id": "1ca3b21b",
   "metadata": {},
   "source": [
    "Let's pretend bacon has the list [3.14, 'cat', 11, 'cat', True] for the next three questions.\n",
    "\n",
    "6. What is the value of bacon.index('cat')?\n",
    "- 1\n",
    "\n",
    "7. How does bacon.append(99) change the look of the list value in bacon?\n",
    "- it adds 99 to the list [3.14, 'cat', 11, 'cat', True, 99]\n",
    "\n",
    "8. How does bacon.remove('cat') change the look of the list in bacon?\n",
    "- It removes the first cat string [3.14, 11, 'cat', True, 99]\n",
    "\n"
   ]
  },
  {
   "cell_type": "markdown",
   "id": "2f82cc9c",
   "metadata": {},
   "source": [
    "9. What are the list concatenation and list replication operators?\n",
    "- list concatenation + and +=\n",
    "- list replication *"
   ]
  },
  {
   "cell_type": "markdown",
   "id": "523a0195",
   "metadata": {},
   "source": [
    "10. What is difference between the list methods append() and insert()?\n",
    "\n",
    "- append() adds an item to the end of a list, whereas insert() inserts an item in a specified position in the list."
   ]
  },
  {
   "cell_type": "markdown",
   "id": "0b2241c0",
   "metadata": {},
   "source": [
    "11. What are the two methods for removing items from a list?\n",
    "- .remove() and .pop()"
   ]
  },
  {
   "cell_type": "markdown",
   "id": "ff09f6e2",
   "metadata": {},
   "source": [
    "12. Describe how list values and string values are identical.\n",
    "- List values are inside [ ] brackets while string values are inside \" \" quotes."
   ]
  },
  {
   "cell_type": "markdown",
   "id": "b0f87703",
   "metadata": {},
   "source": [
    "13. What's the difference between tuples and lists?"
   ]
  },
  {
   "cell_type": "markdown",
   "id": "0b6dc1a6",
   "metadata": {},
   "source": [
    "14. How do you type a tuple value that only contains the integer 42?\n",
    "- (42, )"
   ]
  },
  {
   "cell_type": "markdown",
   "id": "8f8ce0c7",
   "metadata": {},
   "source": [
    "15. How do you get a list value's tuple form? How do you get a tuple value's list form?\n",
    "- By passing the list as an argument in the tuple function tuple()\n",
    "- By passing the tuple as an argument in the list function list()"
   ]
  },
  {
   "cell_type": "markdown",
   "id": "f6b397ca",
   "metadata": {},
   "source": [
    "16. Variables that \"contain\" list values are not necessarily lists themselves. Instead, what do they contain?\n",
    "- They contain a reference to a list\n"
   ]
  },
  {
   "cell_type": "markdown",
   "id": "bd98a5f4",
   "metadata": {},
   "source": [
    "17. How do you distinguish between copy.copy() and copy.deepcopy()?\n",
    "- copy.copy() creates reference to original object. If you change copied object, you change the original object while copy.deepcopy() creates new object and does real copying of original object to new one but does not change the original object."
   ]
  }
 ],
 "metadata": {
  "kernelspec": {
   "display_name": "Python 3 (ipykernel)",
   "language": "python",
   "name": "python3"
  },
  "language_info": {
   "codemirror_mode": {
    "name": "ipython",
    "version": 3
   },
   "file_extension": ".py",
   "mimetype": "text/x-python",
   "name": "python",
   "nbconvert_exporter": "python",
   "pygments_lexer": "ipython3",
   "version": "3.9.13"
  }
 },
 "nbformat": 4,
 "nbformat_minor": 5
}
