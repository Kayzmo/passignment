{
 "cells": [
  {
   "cell_type": "markdown",
   "id": "da5fbc8d",
   "metadata": {},
   "source": [
    "1. Is the Python Standard Library included with PyInputPlus?\n",
    "\n",
    "2. Why is PyInputPlus commonly imported with import pyinputplus as pypi?\n",
    "\n",
    "3. How do you distinguish between inputInt() and inputFloat()?\n",
    "\n",
    "4. Using PyInputPlus, how do you ensure that the user enters a whole number between 0 and 99?\n",
    "\n",
    "5. What is transferred to the keyword arguments allowRegexes and blockRegexes?\n",
    "\n",
    "6. If a blank input is entered three times, what does inputStr(limit=3) do?\n",
    "\n",
    "7. If blank input is entered three times, what does inputStr(limit=3, default='hello') do?\n"
   ]
  },
  {
   "cell_type": "markdown",
   "id": "182dc387",
   "metadata": {},
   "source": [
    "1. Is the Python Standard Library included with PyInputPlus?\n",
    "\n",
    "- PyInputPlus is not a part of the Python Standard Library.\n",
    "\n",
    "\n",
    "2. Why is PyInputPlus commonly imported with import pyinputplus as pypi?\n",
    "\n",
    "- pypi is alias of PyInputPlus.The as pyip code in the import statement saves us from typing pyinputplus each time we want to call a PyInputPlus function. Instead we can use the shorter pyip name.\n",
    "\n",
    "3. How do you distinguish between inputInt() and inputFloat()?\n",
    "\n",
    "-  inputInt() accepts an integer value and returns an int while inputFloat() accepts a floating-point numeric value and returns a float.\n",
    "\n",
    "\n",
    "4. Using PyInputPlus, how do you ensure that the user enters a whole number between 0 and 99?\n",
    "- pyip.inputInt(min = 0, max = 99)\n"
   ]
  },
  {
   "cell_type": "code",
   "execution_count": 7,
   "id": "3d0b73c3",
   "metadata": {},
   "outputs": [
    {
     "name": "stdout",
     "output_type": "stream",
     "text": [
      "2\n"
     ]
    },
    {
     "data": {
      "text/plain": [
       "2"
      ]
     },
     "execution_count": 7,
     "metadata": {},
     "output_type": "execute_result"
    }
   ],
   "source": [
    "import pyinputplus as pyip\n",
    "pyip.inputInt(min = 0, max = 99)"
   ]
  },
  {
   "cell_type": "markdown",
   "id": "d8c22501",
   "metadata": {},
   "source": [
    "5. What is transferred to the keyword arguments allowRegexes and blockRegexes?\n",
    "- We can also use regular expressions to specify whether an input is allowed or not. The allowRegexes and blockRegexes\n",
    "  keyword arguments take a list of regular expression strings to determine what the PyInputPlus function will accept or    reject as valid input."
   ]
  },
  {
   "cell_type": "markdown",
   "id": "f652bd74",
   "metadata": {},
   "source": [
    "6. If a blank input is entered three times, what does inputStr(limit=3) do?\n",
    "\n",
    "- It returns a RetryLimitException exception error"
   ]
  },
  {
   "cell_type": "markdown",
   "id": "0c6685eb",
   "metadata": {},
   "source": [
    "7. If blank input is entered three times, what does inputStr(limit=3, default='hello') do?\n",
    "\n",
    "- When you use limit keyword arguments and also pass a default keyword argument, the function returns the default value instead of raising an exception."
   ]
  }
 ],
 "metadata": {
  "kernelspec": {
   "display_name": "Python 3 (ipykernel)",
   "language": "python",
   "name": "python3"
  },
  "language_info": {
   "codemirror_mode": {
    "name": "ipython",
    "version": 3
   },
   "file_extension": ".py",
   "mimetype": "text/x-python",
   "name": "python",
   "nbconvert_exporter": "python",
   "pygments_lexer": "ipython3",
   "version": "3.9.13"
  }
 },
 "nbformat": 4,
 "nbformat_minor": 5
}
