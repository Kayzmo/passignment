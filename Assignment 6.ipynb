{
 "cells": [
  {
   "cell_type": "markdown",
   "id": "de9fa1b7",
   "metadata": {},
   "source": [
    "1. What are escape characters, and how do you use them?\n",
    "2. What do the escape characters n and t stand for?\n",
    "3. What is the way to include backslash characters in a string?\n",
    "4. The string \"Howl's Moving Castle\" is a correct value. Why isn't the single quote character in the word Howl's not escaped a problem?\n",
    "5. How do you write a string of newlines if you don't want to use the n character?\n",
    "6. What are the values of the given expressions?\n",
    "'Hello, world!'[1]\n",
    "'Hello, world!'[0:5]\n",
    "'Hello, world!'[:5]\n",
    "'Hello, world!'[3:]\n",
    "\n",
    "7. What are the values of the following expressions?\n",
    "'Hello'.upper()\n",
    "'Hello'.upper().isupper()\n",
    "'Hello'.upper().lower()\n",
    "8. What are the values of the following expressions?\n",
    "'Remember, remember, the fifth of July.'.split()\n",
    "'-'.join('There can only one.'.split())\n",
    "9. What are the methods for right-justifying, left-justifying, and centering a string?\n",
    "10. What is the best way to remove whitespace characters from the start or end?\n",
    "\n"
   ]
  },
  {
   "cell_type": "markdown",
   "id": "d7c2924d",
   "metadata": {},
   "source": [
    "1. What are escape characters, and how do you use them?\n",
    "\n",
    "- Escape characters are illegal characters for Python and never get printed as part of the output.\n",
    "- By using a backslash \\ followed by the character you want to insert."
   ]
  },
  {
   "cell_type": "markdown",
   "id": "cf2a65a3",
   "metadata": {},
   "source": [
    "2. What do the escape characters n and t stand for?\n",
    "- n stands for new line\n",
    "- t stands for tab"
   ]
  },
  {
   "cell_type": "markdown",
   "id": "9781149f",
   "metadata": {},
   "source": [
    "3. What is the way to include backslash characters in a string?\n",
    "- By using two backslashes \\ \\ "
   ]
  },
  {
   "cell_type": "markdown",
   "id": "b410b0cc",
   "metadata": {},
   "source": [
    "4. The string \"Howl's Moving Castle\" is a correct value. Why isn't the single quote character in the word Howl's not escaped a problem?\n",
    "- Because we have used double quotes to mark the beginning and end of the string."
   ]
  },
  {
   "cell_type": "markdown",
   "id": "aa63274c",
   "metadata": {},
   "source": [
    "5. How do you write a string of newlines if you don't want to use the n character?\n",
    "- By using triple quotes \"\"\" \"\"\""
   ]
  },
  {
   "cell_type": "markdown",
   "id": "80c78789",
   "metadata": {},
   "source": [
    "6. What are the values of the given expressions? 'Hello, world!'[1] 'Hello, world!'[0:5] 'Hello, world!'[:5] 'Hello, world!'[3:]\n",
    "- 'Hello, world!'[1]  'e'\n",
    "- 'Hello, world!'[0:5]  'Hello'\n",
    "- 'Hello, world!'[:5]  'Hello'\n",
    "- 'Hello, world!'[3:]  'lo, world!'"
   ]
  },
  {
   "cell_type": "markdown",
   "id": "0b7d1642",
   "metadata": {},
   "source": [
    "7. What are the values of the following expressions? 'Hello'.upper() 'Hello'.upper().isupper() 'Hello'.upper().lower()\n",
    "- 'Hello'.upper()   'HELLO'\n",
    "- 'Hello'.upper().isupper()   True\n",
    "- 'Hello'.upper().lower()   'hello'"
   ]
  },
  {
   "cell_type": "markdown",
   "id": "9a58e996",
   "metadata": {},
   "source": [
    "8. What are the values of the following expressions? 'Remember, remember, the fifth of July.'.split() '-'.join('There can only one.'.split())\n",
    "- 'Remember, remember, the fifth of July.'.split() \n",
    "\n",
    "['Remember,', 'remember,', 'the', 'fifth', 'of', 'July.']\n",
    "\n",
    "- '-'.join('There can only one.'.split())\n",
    "\n",
    "'There-can-only-one.'"
   ]
  },
  {
   "cell_type": "markdown",
   "id": "102a0d29",
   "metadata": {},
   "source": [
    "9. What are the methods for right-justifying, left-justifying, and centering a string?\n",
    "- | ljust(), rjust(), center()."
   ]
  },
  {
   "cell_type": "markdown",
   "id": "31c6ed6a",
   "metadata": {},
   "source": [
    " 10. What is the best way to remove whitespace characters from the start or end?\n",
    " - Using strip()."
   ]
  }
 ],
 "metadata": {
  "kernelspec": {
   "display_name": "Python 3 (ipykernel)",
   "language": "python",
   "name": "python3"
  },
  "language_info": {
   "codemirror_mode": {
    "name": "ipython",
    "version": 3
   },
   "file_extension": ".py",
   "mimetype": "text/x-python",
   "name": "python",
   "nbconvert_exporter": "python",
   "pygments_lexer": "ipython3",
   "version": "3.9.13"
  }
 },
 "nbformat": 4,
 "nbformat_minor": 5
}
