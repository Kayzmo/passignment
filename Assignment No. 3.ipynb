{
 "cells": [
  {
   "cell_type": "markdown",
   "id": "ddc142be",
   "metadata": {},
   "source": [
    "1. Why are functions advantageous to have in your programs?\n",
    "2. When does the code in a function run: when it's specified or when it's called?\n",
    "3. What statement creates a function?\n",
    "4. What is the difference between a function and a function call?\n",
    "5. How many global scopes are there in a Python program? How many local scopes?\n",
    "6. What happens to variables in a local scope when the function call returns?\n",
    "7. What is the concept of a return value? Is it possible to have a return value in an expression?\n",
    "8. If a function does not have a return statement, what is the return value of a call to that function?\n",
    "9. How do you make a function variable refer to the global variable?\n",
    "10. What is the data type of None?\n",
    "11. What does the sentence import areallyourpetsnamederic do?\n",
    "12. If you had a bacon() feature in a spam module, what would you call it after importing spam?\n",
    "13. What can you do to save a programme from crashing if it encounters an error?\n",
    "14. What is the purpose of the try clause? What is the purpose of the except clause?"
   ]
  },
  {
   "cell_type": "markdown",
   "id": "ac0fb6a9",
   "metadata": {},
   "source": [
    "1. Why are functions advantageous to have in your programs?\n",
    "\n",
    "   - Functions help increasing the reusability of a code. "
   ]
  },
  {
   "cell_type": "markdown",
   "id": "ef4a460e",
   "metadata": {},
   "source": [
    "2. When does the code in a function run: when it's specified or when it's called?\n",
    "   - When its called.\n",
    "   "
   ]
  },
  {
   "cell_type": "markdown",
   "id": "9a92b323",
   "metadata": {},
   "source": [
    "3. What statement creates a function?\n",
    "   - def statement "
   ]
  },
  {
   "cell_type": "markdown",
   "id": "8e3995c0",
   "metadata": {},
   "source": [
    "4. What is the difference between a function and a function call?\n",
    "\n",
    "    - A function is a block of code that does a particular operation and returns a result. It usually accepts inputs as     parameters and returns a result while a function call triggers or prompts the function to perform its purpose."
   ]
  },
  {
   "cell_type": "markdown",
   "id": "06876ed4",
   "metadata": {},
   "source": [
    "5. How many global scopes are there in a Python program? How many local scopes?\n",
    "\n",
    "    - There is only one global scope and one local scope which is found within the global scope."
   ]
  },
  {
   "cell_type": "markdown",
   "id": "c4c79d36",
   "metadata": {},
   "source": [
    "6. What happens to variables in a local scope when the function call returns?\n",
    "    \n",
    "   - The variables are assigned values in the function definition."
   ]
  },
  {
   "cell_type": "markdown",
   "id": "edb97f3e",
   "metadata": {},
   "source": [
    "7. What is the concept of a return value? Is it possible to have a return value in an expression?\n",
    " \n",
    " - This is the concept of a function returning a value after it has been called or completed its task.\n",
    " Yes it is possible \n"
   ]
  },
  {
   "cell_type": "markdown",
   "id": "5b29642a",
   "metadata": {},
   "source": [
    "8. If a function does not have a return statement, what is the return value of a call to that function?\n",
    "\n",
    "    - The called function will return None"
   ]
  },
  {
   "cell_type": "markdown",
   "id": "f230d458",
   "metadata": {},
   "source": [
    "9. How do you make a function variable refer to the global variable?\n",
    "\n",
    "   - By using the global keyword inside the function"
   ]
  },
  {
   "cell_type": "markdown",
   "id": "ab3d1012",
   "metadata": {},
   "source": [
    "10.What is the data type of None?\n",
    "   \n",
    "   - data type of None is None type which is the equivalent of null"
   ]
  },
  {
   "cell_type": "markdown",
   "id": "9bf5b0f5",
   "metadata": {},
   "source": [
    "11. What does the sentence import areallyourpetsnamederic do?\n",
    "    \n",
    "    - It imports a module named areallyourpetsnamederic if it exists."
   ]
  },
  {
   "cell_type": "markdown",
   "id": "fea63f1d",
   "metadata": {},
   "source": [
    "12. If you had a bacon() feature in a spam module, what would you call it after importing spam?\n",
    "- spam.bacon()"
   ]
  },
  {
   "cell_type": "markdown",
   "id": "ae41f681",
   "metadata": {},
   "source": [
    "13. What can you do to save a programme from crashing if it encounters an error?\n",
    "- You use exception handling by using the try and except statements."
   ]
  },
  {
   "cell_type": "markdown",
   "id": "be53b787",
   "metadata": {},
   "source": [
    "14. What is the purpose of the try clause? What is the purpose of the except clause?\n",
    "- The try block lets you test a block of code for errors.\n",
    "- The except block lets you handle the error."
   ]
  }
 ],
 "metadata": {
  "kernelspec": {
   "display_name": "Python 3 (ipykernel)",
   "language": "python",
   "name": "python3"
  },
  "language_info": {
   "codemirror_mode": {
    "name": "ipython",
    "version": 3
   },
   "file_extension": ".py",
   "mimetype": "text/x-python",
   "name": "python",
   "nbconvert_exporter": "python",
   "pygments_lexer": "ipython3",
   "version": "3.9.13"
  }
 },
 "nbformat": 4,
 "nbformat_minor": 5
}
