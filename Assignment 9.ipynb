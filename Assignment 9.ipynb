{
 "cells": [
  {
   "cell_type": "markdown",
   "id": "ff8650f2",
   "metadata": {},
   "source": [
    "## Questions \n",
    "\n",
    "1. To what does a relative path refer?\n",
    "2. What does an absolute path start with your operating system?\n",
    "3. What do the functions os.getcwd() and os.chdir() do?\n",
    "4. What are the . and .. folders?\n",
    "5. In C:\\bacon\\eggs\\spam.txt, which part is the dir name, and which part is the base name?\n",
    "6. What are the three “mode” arguments that can be passed to the open() function?\n",
    "7. What happens if an existing file is opened in write mode?\n",
    "8. How do you tell the difference between read() and readlines()?\n",
    "9. What data structure does a shelf value resemble?\n"
   ]
  },
  {
   "cell_type": "markdown",
   "id": "318ffe2e",
   "metadata": {},
   "source": [
    "## Answers"
   ]
  },
  {
   "cell_type": "markdown",
   "id": "bd00df23",
   "metadata": {},
   "source": [
    "1. To what does a relative path refer?\n",
    "- It refers to the location of a file relative to the current (working) directory.\n",
    "\n",
    "2. What does an absolute path start with your operating system?\n",
    "\n",
    "- An absolute path always starts from the absolute start of your hard drive and describes every step you must take through the filesystem to end up at the target location.\n",
    "\n",
    "3. What do the functions os.getcwd() and os.chdir() do?\n",
    "- os.getcwd() - It retrieves the current working directory\n",
    "- os.chdir() - It changes the current working directory to the given path.\n",
    "\n",
    "4. What are the . and .. folders?\n",
    "- The . is the current directory, while .. signifies the parent directory. It makes things quicker at the command line as   well so you don't need to type out full paths.\n",
    "\n",
    "5. In C:\\bacon\\eggs\\spam.txt, which part is the dir name, and which part is the base name?\n",
    "- C:\\bacon\\eggs is the dir name, while spam. txt is the base name.\n",
    "\n",
    "6. What are the three “mode” arguments that can be passed to the open() function?\n",
    "- r\tOpen a file for reading. (default)\n",
    "- w\tOpen a file for writing. Creates a new file if it does not exist or truncates the file if it exists.\n",
    "- x\tOpen a file for exclusive creation. If the file already exists, the operation fails\n",
    "\n",
    "7. What happens if an existing file is opened in write mode?\n",
    "- It will truncate the file.\n",
    "\n",
    "8. How do you tell the difference between read() and readlines()?\n",
    "- The read method reads the entire contents of a file and returns it as a string while the readlines method reads the entire contents of a file and returns it as a list of strings, where each element of the list is a single line of the file.\n",
    "\n",
    "9. What data structure does a shelf value resemble?\n",
    "\n",
    "-  A shelf value resembles a dictionary value. It has keys and values, along with keys() and values() methods that work similarly to the dictionary methods of the same names."
   ]
  }
 ],
 "metadata": {
  "kernelspec": {
   "display_name": "Python 3 (ipykernel)",
   "language": "python",
   "name": "python3"
  },
  "language_info": {
   "codemirror_mode": {
    "name": "ipython",
    "version": 3
   },
   "file_extension": ".py",
   "mimetype": "text/x-python",
   "name": "python",
   "nbconvert_exporter": "python",
   "pygments_lexer": "ipython3",
   "version": "3.9.13"
  }
 },
 "nbformat": 4,
 "nbformat_minor": 5
}
